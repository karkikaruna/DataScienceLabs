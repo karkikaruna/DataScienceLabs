{
  "nbformat": 4,
  "nbformat_minor": 0,
  "metadata": {
    "colab": {
      "provenance": []
    },
    "kernelspec": {
      "name": "python3",
      "display_name": "Python 3"
    },
    "language_info": {
      "name": "python"
    }
  },
  "cells": [
    {
      "cell_type": "markdown",
      "source": [
        "# **Lab 9**"
      ],
      "metadata": {
        "id": "o4yK9bCEcgFg"
      }
    },
    {
      "cell_type": "code",
      "execution_count": 1,
      "metadata": {
        "id": "Lh2_paygb2hR"
      },
      "outputs": [],
      "source": [
        "import numpy as np\n",
        "import pandas as pd\n",
        "import matplotlib.pyplot as plt\n",
        "import seaborn as sns"
      ]
    },
    {
      "cell_type": "code",
      "source": [
        "df=pd.read_csv(\"/content/startup_growth_investment_data.csv\")"
      ],
      "metadata": {
        "id": "vUbxWJzjccOq"
      },
      "execution_count": 2,
      "outputs": []
    },
    {
      "cell_type": "code",
      "source": [
        "df"
      ],
      "metadata": {
        "colab": {
          "base_uri": "https://localhost:8080/",
          "height": 424
        },
        "id": "eNu4rSVndSiq",
        "outputId": "ab6b3f19-5081-4894-90c4-d2ef71405552"
      },
      "execution_count": 3,
      "outputs": [
        {
          "output_type": "execute_result",
          "data": {
            "text/plain": [
              "      Startup Name    Industry  Funding Rounds  Investment Amount (USD)  \\\n",
              "0        Startup_1  Blockchain               8             1.335166e+09   \n",
              "1        Startup_2        SaaS               2             2.781498e+09   \n",
              "2        Startup_3      EdTech              10             3.309032e+09   \n",
              "3        Startup_4     Fintech               5             4.050196e+09   \n",
              "4        Startup_5      EdTech               9             1.645080e+09   \n",
              "...            ...         ...             ...                      ...   \n",
              "4995  Startup_4996      EdTech               5             4.015771e+09   \n",
              "4996  Startup_4997          AI               2             3.619535e+09   \n",
              "4997  Startup_4998        SaaS              10             4.257640e+08   \n",
              "4998  Startup_4999        SaaS               4             4.220592e+08   \n",
              "4999  Startup_5000     Biotech               5             1.208767e+09   \n",
              "\n",
              "      Valuation (USD)  Number of Investors    Country  Year Founded  \\\n",
              "0        6.621448e+09                   50    Germany          2012   \n",
              "1        8.363214e+09                   36         UK          2006   \n",
              "2        1.548270e+10                   39  Singapore          2016   \n",
              "3        1.268253e+10                   44     France          2021   \n",
              "4        6.887966e+09                   48      India          2011   \n",
              "...               ...                  ...        ...           ...   \n",
              "4995     1.212346e+10                   29    Germany          2002   \n",
              "4996     1.107936e+10                   14     Brazil          2000   \n",
              "4997     8.277586e+08                   29         UK          2018   \n",
              "4998     1.895497e+09                    6      India          2017   \n",
              "4999     2.265635e+09                    8        USA          2010   \n",
              "\n",
              "      Growth Rate (%)  \n",
              "0               77.10  \n",
              "1              105.52  \n",
              "2              190.47  \n",
              "3                9.44  \n",
              "4              192.00  \n",
              "...               ...  \n",
              "4995            64.08  \n",
              "4996           151.29  \n",
              "4997           140.43  \n",
              "4998           122.93  \n",
              "4999            71.09  \n",
              "\n",
              "[5000 rows x 9 columns]"
            ],
            "text/html": [
              "\n",
              "  <div id=\"df-c03e4727-9c8c-40c6-8336-27d80801f62f\" class=\"colab-df-container\">\n",
              "    <div>\n",
              "<style scoped>\n",
              "    .dataframe tbody tr th:only-of-type {\n",
              "        vertical-align: middle;\n",
              "    }\n",
              "\n",
              "    .dataframe tbody tr th {\n",
              "        vertical-align: top;\n",
              "    }\n",
              "\n",
              "    .dataframe thead th {\n",
              "        text-align: right;\n",
              "    }\n",
              "</style>\n",
              "<table border=\"1\" class=\"dataframe\">\n",
              "  <thead>\n",
              "    <tr style=\"text-align: right;\">\n",
              "      <th></th>\n",
              "      <th>Startup Name</th>\n",
              "      <th>Industry</th>\n",
              "      <th>Funding Rounds</th>\n",
              "      <th>Investment Amount (USD)</th>\n",
              "      <th>Valuation (USD)</th>\n",
              "      <th>Number of Investors</th>\n",
              "      <th>Country</th>\n",
              "      <th>Year Founded</th>\n",
              "      <th>Growth Rate (%)</th>\n",
              "    </tr>\n",
              "  </thead>\n",
              "  <tbody>\n",
              "    <tr>\n",
              "      <th>0</th>\n",
              "      <td>Startup_1</td>\n",
              "      <td>Blockchain</td>\n",
              "      <td>8</td>\n",
              "      <td>1.335166e+09</td>\n",
              "      <td>6.621448e+09</td>\n",
              "      <td>50</td>\n",
              "      <td>Germany</td>\n",
              "      <td>2012</td>\n",
              "      <td>77.10</td>\n",
              "    </tr>\n",
              "    <tr>\n",
              "      <th>1</th>\n",
              "      <td>Startup_2</td>\n",
              "      <td>SaaS</td>\n",
              "      <td>2</td>\n",
              "      <td>2.781498e+09</td>\n",
              "      <td>8.363214e+09</td>\n",
              "      <td>36</td>\n",
              "      <td>UK</td>\n",
              "      <td>2006</td>\n",
              "      <td>105.52</td>\n",
              "    </tr>\n",
              "    <tr>\n",
              "      <th>2</th>\n",
              "      <td>Startup_3</td>\n",
              "      <td>EdTech</td>\n",
              "      <td>10</td>\n",
              "      <td>3.309032e+09</td>\n",
              "      <td>1.548270e+10</td>\n",
              "      <td>39</td>\n",
              "      <td>Singapore</td>\n",
              "      <td>2016</td>\n",
              "      <td>190.47</td>\n",
              "    </tr>\n",
              "    <tr>\n",
              "      <th>3</th>\n",
              "      <td>Startup_4</td>\n",
              "      <td>Fintech</td>\n",
              "      <td>5</td>\n",
              "      <td>4.050196e+09</td>\n",
              "      <td>1.268253e+10</td>\n",
              "      <td>44</td>\n",
              "      <td>France</td>\n",
              "      <td>2021</td>\n",
              "      <td>9.44</td>\n",
              "    </tr>\n",
              "    <tr>\n",
              "      <th>4</th>\n",
              "      <td>Startup_5</td>\n",
              "      <td>EdTech</td>\n",
              "      <td>9</td>\n",
              "      <td>1.645080e+09</td>\n",
              "      <td>6.887966e+09</td>\n",
              "      <td>48</td>\n",
              "      <td>India</td>\n",
              "      <td>2011</td>\n",
              "      <td>192.00</td>\n",
              "    </tr>\n",
              "    <tr>\n",
              "      <th>...</th>\n",
              "      <td>...</td>\n",
              "      <td>...</td>\n",
              "      <td>...</td>\n",
              "      <td>...</td>\n",
              "      <td>...</td>\n",
              "      <td>...</td>\n",
              "      <td>...</td>\n",
              "      <td>...</td>\n",
              "      <td>...</td>\n",
              "    </tr>\n",
              "    <tr>\n",
              "      <th>4995</th>\n",
              "      <td>Startup_4996</td>\n",
              "      <td>EdTech</td>\n",
              "      <td>5</td>\n",
              "      <td>4.015771e+09</td>\n",
              "      <td>1.212346e+10</td>\n",
              "      <td>29</td>\n",
              "      <td>Germany</td>\n",
              "      <td>2002</td>\n",
              "      <td>64.08</td>\n",
              "    </tr>\n",
              "    <tr>\n",
              "      <th>4996</th>\n",
              "      <td>Startup_4997</td>\n",
              "      <td>AI</td>\n",
              "      <td>2</td>\n",
              "      <td>3.619535e+09</td>\n",
              "      <td>1.107936e+10</td>\n",
              "      <td>14</td>\n",
              "      <td>Brazil</td>\n",
              "      <td>2000</td>\n",
              "      <td>151.29</td>\n",
              "    </tr>\n",
              "    <tr>\n",
              "      <th>4997</th>\n",
              "      <td>Startup_4998</td>\n",
              "      <td>SaaS</td>\n",
              "      <td>10</td>\n",
              "      <td>4.257640e+08</td>\n",
              "      <td>8.277586e+08</td>\n",
              "      <td>29</td>\n",
              "      <td>UK</td>\n",
              "      <td>2018</td>\n",
              "      <td>140.43</td>\n",
              "    </tr>\n",
              "    <tr>\n",
              "      <th>4998</th>\n",
              "      <td>Startup_4999</td>\n",
              "      <td>SaaS</td>\n",
              "      <td>4</td>\n",
              "      <td>4.220592e+08</td>\n",
              "      <td>1.895497e+09</td>\n",
              "      <td>6</td>\n",
              "      <td>India</td>\n",
              "      <td>2017</td>\n",
              "      <td>122.93</td>\n",
              "    </tr>\n",
              "    <tr>\n",
              "      <th>4999</th>\n",
              "      <td>Startup_5000</td>\n",
              "      <td>Biotech</td>\n",
              "      <td>5</td>\n",
              "      <td>1.208767e+09</td>\n",
              "      <td>2.265635e+09</td>\n",
              "      <td>8</td>\n",
              "      <td>USA</td>\n",
              "      <td>2010</td>\n",
              "      <td>71.09</td>\n",
              "    </tr>\n",
              "  </tbody>\n",
              "</table>\n",
              "<p>5000 rows × 9 columns</p>\n",
              "</div>\n",
              "    <div class=\"colab-df-buttons\">\n",
              "\n",
              "  <div class=\"colab-df-container\">\n",
              "    <button class=\"colab-df-convert\" onclick=\"convertToInteractive('df-c03e4727-9c8c-40c6-8336-27d80801f62f')\"\n",
              "            title=\"Convert this dataframe to an interactive table.\"\n",
              "            style=\"display:none;\">\n",
              "\n",
              "  <svg xmlns=\"http://www.w3.org/2000/svg\" height=\"24px\" viewBox=\"0 -960 960 960\">\n",
              "    <path d=\"M120-120v-720h720v720H120Zm60-500h600v-160H180v160Zm220 220h160v-160H400v160Zm0 220h160v-160H400v160ZM180-400h160v-160H180v160Zm440 0h160v-160H620v160ZM180-180h160v-160H180v160Zm440 0h160v-160H620v160Z\"/>\n",
              "  </svg>\n",
              "    </button>\n",
              "\n",
              "  <style>\n",
              "    .colab-df-container {\n",
              "      display:flex;\n",
              "      gap: 12px;\n",
              "    }\n",
              "\n",
              "    .colab-df-convert {\n",
              "      background-color: #E8F0FE;\n",
              "      border: none;\n",
              "      border-radius: 50%;\n",
              "      cursor: pointer;\n",
              "      display: none;\n",
              "      fill: #1967D2;\n",
              "      height: 32px;\n",
              "      padding: 0 0 0 0;\n",
              "      width: 32px;\n",
              "    }\n",
              "\n",
              "    .colab-df-convert:hover {\n",
              "      background-color: #E2EBFA;\n",
              "      box-shadow: 0px 1px 2px rgba(60, 64, 67, 0.3), 0px 1px 3px 1px rgba(60, 64, 67, 0.15);\n",
              "      fill: #174EA6;\n",
              "    }\n",
              "\n",
              "    .colab-df-buttons div {\n",
              "      margin-bottom: 4px;\n",
              "    }\n",
              "\n",
              "    [theme=dark] .colab-df-convert {\n",
              "      background-color: #3B4455;\n",
              "      fill: #D2E3FC;\n",
              "    }\n",
              "\n",
              "    [theme=dark] .colab-df-convert:hover {\n",
              "      background-color: #434B5C;\n",
              "      box-shadow: 0px 1px 3px 1px rgba(0, 0, 0, 0.15);\n",
              "      filter: drop-shadow(0px 1px 2px rgba(0, 0, 0, 0.3));\n",
              "      fill: #FFFFFF;\n",
              "    }\n",
              "  </style>\n",
              "\n",
              "    <script>\n",
              "      const buttonEl =\n",
              "        document.querySelector('#df-c03e4727-9c8c-40c6-8336-27d80801f62f button.colab-df-convert');\n",
              "      buttonEl.style.display =\n",
              "        google.colab.kernel.accessAllowed ? 'block' : 'none';\n",
              "\n",
              "      async function convertToInteractive(key) {\n",
              "        const element = document.querySelector('#df-c03e4727-9c8c-40c6-8336-27d80801f62f');\n",
              "        const dataTable =\n",
              "          await google.colab.kernel.invokeFunction('convertToInteractive',\n",
              "                                                    [key], {});\n",
              "        if (!dataTable) return;\n",
              "\n",
              "        const docLinkHtml = 'Like what you see? Visit the ' +\n",
              "          '<a target=\"_blank\" href=https://colab.research.google.com/notebooks/data_table.ipynb>data table notebook</a>'\n",
              "          + ' to learn more about interactive tables.';\n",
              "        element.innerHTML = '';\n",
              "        dataTable['output_type'] = 'display_data';\n",
              "        await google.colab.output.renderOutput(dataTable, element);\n",
              "        const docLink = document.createElement('div');\n",
              "        docLink.innerHTML = docLinkHtml;\n",
              "        element.appendChild(docLink);\n",
              "      }\n",
              "    </script>\n",
              "  </div>\n",
              "\n",
              "\n",
              "<div id=\"df-932eafe7-4b97-4e1b-9cfc-ac78ec2b0784\">\n",
              "  <button class=\"colab-df-quickchart\" onclick=\"quickchart('df-932eafe7-4b97-4e1b-9cfc-ac78ec2b0784')\"\n",
              "            title=\"Suggest charts\"\n",
              "            style=\"display:none;\">\n",
              "\n",
              "<svg xmlns=\"http://www.w3.org/2000/svg\" height=\"24px\"viewBox=\"0 0 24 24\"\n",
              "     width=\"24px\">\n",
              "    <g>\n",
              "        <path d=\"M19 3H5c-1.1 0-2 .9-2 2v14c0 1.1.9 2 2 2h14c1.1 0 2-.9 2-2V5c0-1.1-.9-2-2-2zM9 17H7v-7h2v7zm4 0h-2V7h2v10zm4 0h-2v-4h2v4z\"/>\n",
              "    </g>\n",
              "</svg>\n",
              "  </button>\n",
              "\n",
              "<style>\n",
              "  .colab-df-quickchart {\n",
              "      --bg-color: #E8F0FE;\n",
              "      --fill-color: #1967D2;\n",
              "      --hover-bg-color: #E2EBFA;\n",
              "      --hover-fill-color: #174EA6;\n",
              "      --disabled-fill-color: #AAA;\n",
              "      --disabled-bg-color: #DDD;\n",
              "  }\n",
              "\n",
              "  [theme=dark] .colab-df-quickchart {\n",
              "      --bg-color: #3B4455;\n",
              "      --fill-color: #D2E3FC;\n",
              "      --hover-bg-color: #434B5C;\n",
              "      --hover-fill-color: #FFFFFF;\n",
              "      --disabled-bg-color: #3B4455;\n",
              "      --disabled-fill-color: #666;\n",
              "  }\n",
              "\n",
              "  .colab-df-quickchart {\n",
              "    background-color: var(--bg-color);\n",
              "    border: none;\n",
              "    border-radius: 50%;\n",
              "    cursor: pointer;\n",
              "    display: none;\n",
              "    fill: var(--fill-color);\n",
              "    height: 32px;\n",
              "    padding: 0;\n",
              "    width: 32px;\n",
              "  }\n",
              "\n",
              "  .colab-df-quickchart:hover {\n",
              "    background-color: var(--hover-bg-color);\n",
              "    box-shadow: 0 1px 2px rgba(60, 64, 67, 0.3), 0 1px 3px 1px rgba(60, 64, 67, 0.15);\n",
              "    fill: var(--button-hover-fill-color);\n",
              "  }\n",
              "\n",
              "  .colab-df-quickchart-complete:disabled,\n",
              "  .colab-df-quickchart-complete:disabled:hover {\n",
              "    background-color: var(--disabled-bg-color);\n",
              "    fill: var(--disabled-fill-color);\n",
              "    box-shadow: none;\n",
              "  }\n",
              "\n",
              "  .colab-df-spinner {\n",
              "    border: 2px solid var(--fill-color);\n",
              "    border-color: transparent;\n",
              "    border-bottom-color: var(--fill-color);\n",
              "    animation:\n",
              "      spin 1s steps(1) infinite;\n",
              "  }\n",
              "\n",
              "  @keyframes spin {\n",
              "    0% {\n",
              "      border-color: transparent;\n",
              "      border-bottom-color: var(--fill-color);\n",
              "      border-left-color: var(--fill-color);\n",
              "    }\n",
              "    20% {\n",
              "      border-color: transparent;\n",
              "      border-left-color: var(--fill-color);\n",
              "      border-top-color: var(--fill-color);\n",
              "    }\n",
              "    30% {\n",
              "      border-color: transparent;\n",
              "      border-left-color: var(--fill-color);\n",
              "      border-top-color: var(--fill-color);\n",
              "      border-right-color: var(--fill-color);\n",
              "    }\n",
              "    40% {\n",
              "      border-color: transparent;\n",
              "      border-right-color: var(--fill-color);\n",
              "      border-top-color: var(--fill-color);\n",
              "    }\n",
              "    60% {\n",
              "      border-color: transparent;\n",
              "      border-right-color: var(--fill-color);\n",
              "    }\n",
              "    80% {\n",
              "      border-color: transparent;\n",
              "      border-right-color: var(--fill-color);\n",
              "      border-bottom-color: var(--fill-color);\n",
              "    }\n",
              "    90% {\n",
              "      border-color: transparent;\n",
              "      border-bottom-color: var(--fill-color);\n",
              "    }\n",
              "  }\n",
              "</style>\n",
              "\n",
              "  <script>\n",
              "    async function quickchart(key) {\n",
              "      const quickchartButtonEl =\n",
              "        document.querySelector('#' + key + ' button');\n",
              "      quickchartButtonEl.disabled = true;  // To prevent multiple clicks.\n",
              "      quickchartButtonEl.classList.add('colab-df-spinner');\n",
              "      try {\n",
              "        const charts = await google.colab.kernel.invokeFunction(\n",
              "            'suggestCharts', [key], {});\n",
              "      } catch (error) {\n",
              "        console.error('Error during call to suggestCharts:', error);\n",
              "      }\n",
              "      quickchartButtonEl.classList.remove('colab-df-spinner');\n",
              "      quickchartButtonEl.classList.add('colab-df-quickchart-complete');\n",
              "    }\n",
              "    (() => {\n",
              "      let quickchartButtonEl =\n",
              "        document.querySelector('#df-932eafe7-4b97-4e1b-9cfc-ac78ec2b0784 button');\n",
              "      quickchartButtonEl.style.display =\n",
              "        google.colab.kernel.accessAllowed ? 'block' : 'none';\n",
              "    })();\n",
              "  </script>\n",
              "</div>\n",
              "\n",
              "  <div id=\"id_2c474376-a7f2-4f92-9472-07e882a8a16b\">\n",
              "    <style>\n",
              "      .colab-df-generate {\n",
              "        background-color: #E8F0FE;\n",
              "        border: none;\n",
              "        border-radius: 50%;\n",
              "        cursor: pointer;\n",
              "        display: none;\n",
              "        fill: #1967D2;\n",
              "        height: 32px;\n",
              "        padding: 0 0 0 0;\n",
              "        width: 32px;\n",
              "      }\n",
              "\n",
              "      .colab-df-generate:hover {\n",
              "        background-color: #E2EBFA;\n",
              "        box-shadow: 0px 1px 2px rgba(60, 64, 67, 0.3), 0px 1px 3px 1px rgba(60, 64, 67, 0.15);\n",
              "        fill: #174EA6;\n",
              "      }\n",
              "\n",
              "      [theme=dark] .colab-df-generate {\n",
              "        background-color: #3B4455;\n",
              "        fill: #D2E3FC;\n",
              "      }\n",
              "\n",
              "      [theme=dark] .colab-df-generate:hover {\n",
              "        background-color: #434B5C;\n",
              "        box-shadow: 0px 1px 3px 1px rgba(0, 0, 0, 0.15);\n",
              "        filter: drop-shadow(0px 1px 2px rgba(0, 0, 0, 0.3));\n",
              "        fill: #FFFFFF;\n",
              "      }\n",
              "    </style>\n",
              "    <button class=\"colab-df-generate\" onclick=\"generateWithVariable('df')\"\n",
              "            title=\"Generate code using this dataframe.\"\n",
              "            style=\"display:none;\">\n",
              "\n",
              "  <svg xmlns=\"http://www.w3.org/2000/svg\" height=\"24px\"viewBox=\"0 0 24 24\"\n",
              "       width=\"24px\">\n",
              "    <path d=\"M7,19H8.4L18.45,9,17,7.55,7,17.6ZM5,21V16.75L18.45,3.32a2,2,0,0,1,2.83,0l1.4,1.43a1.91,1.91,0,0,1,.58,1.4,1.91,1.91,0,0,1-.58,1.4L9.25,21ZM18.45,9,17,7.55Zm-12,3A5.31,5.31,0,0,0,4.9,8.1,5.31,5.31,0,0,0,1,6.5,5.31,5.31,0,0,0,4.9,4.9,5.31,5.31,0,0,0,6.5,1,5.31,5.31,0,0,0,8.1,4.9,5.31,5.31,0,0,0,12,6.5,5.46,5.46,0,0,0,6.5,12Z\"/>\n",
              "  </svg>\n",
              "    </button>\n",
              "    <script>\n",
              "      (() => {\n",
              "      const buttonEl =\n",
              "        document.querySelector('#id_2c474376-a7f2-4f92-9472-07e882a8a16b button.colab-df-generate');\n",
              "      buttonEl.style.display =\n",
              "        google.colab.kernel.accessAllowed ? 'block' : 'none';\n",
              "\n",
              "      buttonEl.onclick = () => {\n",
              "        google.colab.notebook.generateWithVariable('df');\n",
              "      }\n",
              "      })();\n",
              "    </script>\n",
              "  </div>\n",
              "\n",
              "    </div>\n",
              "  </div>\n"
            ],
            "application/vnd.google.colaboratory.intrinsic+json": {
              "type": "dataframe",
              "variable_name": "df",
              "summary": "{\n  \"name\": \"df\",\n  \"rows\": 5000,\n  \"fields\": [\n    {\n      \"column\": \"Startup Name\",\n      \"properties\": {\n        \"dtype\": \"string\",\n        \"num_unique_values\": 5000,\n        \"samples\": [\n          \"Startup_1502\",\n          \"Startup_2587\",\n          \"Startup_2654\"\n        ],\n        \"semantic_type\": \"\",\n        \"description\": \"\"\n      }\n    },\n    {\n      \"column\": \"Industry\",\n      \"properties\": {\n        \"dtype\": \"category\",\n        \"num_unique_values\": 8,\n        \"samples\": [\n          \"SaaS\",\n          \"E-commerce\",\n          \"Blockchain\"\n        ],\n        \"semantic_type\": \"\",\n        \"description\": \"\"\n      }\n    },\n    {\n      \"column\": \"Funding Rounds\",\n      \"properties\": {\n        \"dtype\": \"number\",\n        \"std\": 2,\n        \"min\": 1,\n        \"max\": 10,\n        \"num_unique_values\": 10,\n        \"samples\": [\n          4,\n          2,\n          3\n        ],\n        \"semantic_type\": \"\",\n        \"description\": \"\"\n      }\n    },\n    {\n      \"column\": \"Investment Amount (USD)\",\n      \"properties\": {\n        \"dtype\": \"number\",\n        \"std\": 1423787264.5003223,\n        \"min\": 1102610.0,\n        \"max\": 4999543707.18,\n        \"num_unique_values\": 5000,\n        \"samples\": [\n          884952207.86,\n          4304227168.6,\n          2038923732.84\n        ],\n        \"semantic_type\": \"\",\n        \"description\": \"\"\n      }\n    },\n    {\n      \"column\": \"Valuation (USD)\",\n      \"properties\": {\n        \"dtype\": \"number\",\n        \"std\": 5479486954.593781,\n        \"min\": 1722547.165738125,\n        \"max\": 24709061035.640877,\n        \"num_unique_values\": 5000,\n        \"samples\": [\n          3679521352.967688,\n          16111190441.292831,\n          5108030293.603264\n        ],\n        \"semantic_type\": \"\",\n        \"description\": \"\"\n      }\n    },\n    {\n      \"column\": \"Number of Investors\",\n      \"properties\": {\n        \"dtype\": \"number\",\n        \"std\": 14,\n        \"min\": 1,\n        \"max\": 50,\n        \"num_unique_values\": 50,\n        \"samples\": [\n          46,\n          23,\n          25\n        ],\n        \"semantic_type\": \"\",\n        \"description\": \"\"\n      }\n    },\n    {\n      \"column\": \"Country\",\n      \"properties\": {\n        \"dtype\": \"category\",\n        \"num_unique_values\": 10,\n        \"samples\": [\n          \"China\",\n          \"UK\",\n          \"Brazil\"\n        ],\n        \"semantic_type\": \"\",\n        \"description\": \"\"\n      }\n    },\n    {\n      \"column\": \"Year Founded\",\n      \"properties\": {\n        \"dtype\": \"number\",\n        \"std\": 6,\n        \"min\": 2000,\n        \"max\": 2023,\n        \"num_unique_values\": 24,\n        \"samples\": [\n          2000,\n          2002,\n          2012\n        ],\n        \"semantic_type\": \"\",\n        \"description\": \"\"\n      }\n    },\n    {\n      \"column\": \"Growth Rate (%)\",\n      \"properties\": {\n        \"dtype\": \"number\",\n        \"std\": 56.179781044427536,\n        \"min\": 5.06,\n        \"max\": 199.97,\n        \"num_unique_values\": 4384,\n        \"samples\": [\n          30.96,\n          183.94,\n          75.85\n        ],\n        \"semantic_type\": \"\",\n        \"description\": \"\"\n      }\n    }\n  ]\n}"
            }
          },
          "metadata": {},
          "execution_count": 3
        }
      ]
    },
    {
      "cell_type": "code",
      "source": [
        "X = df.iloc[:, [3,4]].values"
      ],
      "metadata": {
        "id": "m4EXz2McdWf3"
      },
      "execution_count": 4,
      "outputs": []
    },
    {
      "cell_type": "code",
      "source": [
        "X"
      ],
      "metadata": {
        "colab": {
          "base_uri": "https://localhost:8080/"
        },
        "id": "yiwgsDqzdaNp",
        "outputId": "1242b940-be58-40fb-af1e-9085314e93c8"
      },
      "execution_count": 5,
      "outputs": [
        {
          "output_type": "execute_result",
          "data": {
            "text/plain": [
              "array([[1.33516585e+09, 6.62144804e+09],\n",
              "       [2.78149822e+09, 8.36321410e+09],\n",
              "       [3.30903193e+09, 1.54826974e+10],\n",
              "       ...,\n",
              "       [4.25763990e+08, 8.27758556e+08],\n",
              "       [4.22059213e+08, 1.89549747e+09],\n",
              "       [1.20876660e+09, 2.26563520e+09]])"
            ]
          },
          "metadata": {},
          "execution_count": 5
        }
      ]
    },
    {
      "cell_type": "code",
      "source": [
        "from sklearn.cluster import KMeans"
      ],
      "metadata": {
        "id": "7a3sf4vVdfSU"
      },
      "execution_count": 6,
      "outputs": []
    },
    {
      "cell_type": "code",
      "source": [
        "wcss_list=[]\n",
        "\n",
        "for i in range(1, 11):\n",
        "  kmeans = KMeans(n_clusters=i, init = 'k-means++', random_state=42)\n",
        "  kmeans.fit(X)\n",
        "  wcss_list.append(kmeans.inertia_)\n",
        "  print(wcss_list)\n",
        "\n",
        "plt.plot(range(1,11), wcss_list)\n",
        "plt.title('The Elbow Method Graph')\n",
        "plt.xlabel('Number of Clusters(k)')\n",
        "plt.ylabel('wcss_list')\n",
        "plt.show()"
      ],
      "metadata": {
        "colab": {
          "base_uri": "https://localhost:8080/",
          "height": 671
        },
        "id": "AgRFI6PvdkBy",
        "outputId": "e60f311b-63ee-4fbd-b08d-68bdf2ce8348"
      },
      "execution_count": 7,
      "outputs": [
        {
          "output_type": "stream",
          "name": "stdout",
          "text": [
            "[1.6022768535312418e+23]\n",
            "[1.6022768535312418e+23, 5.137808512092025e+22]\n",
            "[1.6022768535312418e+23, 5.137808512092025e+22, 2.4919448057419986e+22]\n",
            "[1.6022768535312418e+23, 5.137808512092025e+22, 2.4919448057419986e+22, 1.503454675350848e+22]\n",
            "[1.6022768535312418e+23, 5.137808512092025e+22, 2.4919448057419986e+22, 1.503454675350848e+22, 1.0714820719748227e+22]\n",
            "[1.6022768535312418e+23, 5.137808512092025e+22, 2.4919448057419986e+22, 1.503454675350848e+22, 1.0714820719748227e+22, 7.870810681839852e+21]\n",
            "[1.6022768535312418e+23, 5.137808512092025e+22, 2.4919448057419986e+22, 1.503454675350848e+22, 1.0714820719748227e+22, 7.870810681839852e+21, 6.27838465073123e+21]\n",
            "[1.6022768535312418e+23, 5.137808512092025e+22, 2.4919448057419986e+22, 1.503454675350848e+22, 1.0714820719748227e+22, 7.870810681839852e+21, 6.27838465073123e+21, 5.277895658784944e+21]\n",
            "[1.6022768535312418e+23, 5.137808512092025e+22, 2.4919448057419986e+22, 1.503454675350848e+22, 1.0714820719748227e+22, 7.870810681839852e+21, 6.27838465073123e+21, 5.277895658784944e+21, 4.71471047976305e+21]\n",
            "[1.6022768535312418e+23, 5.137808512092025e+22, 2.4919448057419986e+22, 1.503454675350848e+22, 1.0714820719748227e+22, 7.870810681839852e+21, 6.27838465073123e+21, 5.277895658784944e+21, 4.71471047976305e+21, 4.2733699876335895e+21]\n"
          ]
        },
        {
          "output_type": "display_data",
          "data": {
            "text/plain": [
              "<Figure size 640x480 with 1 Axes>"
            ],
            "image/png": "[encoded data removed]"
          },
          "metadata": {}
        }
      ]
    },
    {
      "cell_type": "code",
      "source": [
        "kmeans = KMeans(n_clusters=7, init='k-means++', random_state=42)\n",
        "y_predict = kmeans.fit_predict(X)"
      ],
      "metadata": {
        "id": "ByTWnT82dqIF"
      },
      "execution_count": 8,
      "outputs": []
    },
    {
      "cell_type": "code",
      "source": [
        "y_predict"
      ],
      "metadata": {
        "colab": {
          "base_uri": "https://localhost:8080/"
        },
        "id": "ju3Zy2bndv2r",
        "outputId": "428792ac-a9ce-4bff-9406-8040958f3c44"
      },
      "execution_count": 9,
      "outputs": [
        {
          "output_type": "execute_result",
          "data": {
            "text/plain": [
              "array([3, 3, 6, ..., 5, 5, 5], dtype=int32)"
            ]
          },
          "metadata": {},
          "execution_count": 9
        }
      ]
    },
    {
      "cell_type": "code",
      "source": [
        "plt.figure(figsize=(10,5))\n",
        "plt.scatter(X[y_predict == 0, 0], X[y_predict == 0, 1], s=100, c='red', label='Cluster 1')\n",
        "plt.scatter(X[y_predict == 1, 0], X[y_predict == 1, 1], s=100, c='yellow', label='Cluster 2')\n",
        "plt.scatter(X[y_predict == 2, 0], X[y_predict == 2, 1], s=100, c='blue', label='Cluster 3')\n",
        "plt.scatter(X[y_predict == 3, 0], X[y_predict == 3, 1], s=100, c='green', label='Cluster 4')\n",
        "plt.scatter(X[y_predict == 4, 0], X[y_predict == 4, 1], s=100, c='brown', label='Cluster 5')\n",
        "plt.scatter(X[y_predict == 5, 0], X[y_predict == 5, 1], s=100, c='pink', label='Cluster 6')\n",
        "plt.scatter(X[y_predict == 6, 0], X[y_predict == 6, 1], s=100, c='grey', label='Cluster 7')\n",
        "plt.scatter(kmeans.cluster_centers_[:, 0], kmeans.cluster_centers_[:, 1], s= 300, c = 'violet', label = 'Centroid')\n",
        "plt.title('K-Means Clustering')\n",
        "plt.xlabel('Investment Amount (USD)')\n",
        "plt.ylabel('Valuation (USD)')\n",
        "plt.show()"
      ],
      "metadata": {
        "colab": {
          "base_uri": "https://localhost:8080/",
          "height": 487
        },
        "id": "NQKBlk8sd0kr",
        "outputId": "af908fbf-cf56-4b3e-fa2e-1d9e8829606a"
      },
      "execution_count": 13,
      "outputs": [
        {
          "output_type": "display_data",
          "data": {
            "text/plain": [
              "<Figure size 1000x500 with 1 Axes>"
            ],
            "image/png": "[encoded data removed]"
          },
          "metadata": {}
        }
      ]
    },
    {
      "cell_type": "code",
      "source": [
        "from sklearn.metrics import silhouette_score"
      ],
      "metadata": {
        "id": "MfV_C3o4d6Tm"
      },
      "execution_count": 14,
      "outputs": []
    },
    {
      "cell_type": "code",
      "source": [
        "silhouette_avg = silhouette_score(X, y_predict)\n",
        "print(f\"Silhouette Score: {silhouette_avg:.2f}\")"
      ],
      "metadata": {
        "colab": {
          "base_uri": "https://localhost:8080/"
        },
        "id": "7in_J8-Lg84P",
        "outputId": "1c2cbf29-eda4-44e1-c5db-1aaf8147bff1"
      },
      "execution_count": 15,
      "outputs": [
        {
          "output_type": "stream",
          "name": "stdout",
          "text": [
            "Silhouette Score: 0.46\n"
          ]
        }
      ]
    }
  ]
}